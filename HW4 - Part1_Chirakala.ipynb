{
 "cells": [
  {
   "cell_type": "code",
   "execution_count": 7,
   "id": "de7a8e8f-3613-4183-90c7-e2da4a777c8c",
   "metadata": {},
   "outputs": [],
   "source": [
    "data_file = r'C:\\Users\\student\\OneDrive\\Documents\\input_text.txt'\n",
    "\n",
    "# Read lines from file\n",
    "with open(data_file, 'r') as input_file:\n",
    "    lines = input_file.read().splitlines()"
   ]
  },
  {
   "cell_type": "code",
   "execution_count": 8,
   "id": "ea6b7c8c-4cc2-43ae-aa27-aab2fc994bff",
   "metadata": {},
   "outputs": [],
   "source": [
    "# Convert to integers\n",
    "depths = [int(line) for line in lines]\n"
   ]
  },
  {
   "cell_type": "code",
   "execution_count": 9,
   "id": "8103f3dd-1a71-4a71-af7e-ab9ce93d6c6c",
   "metadata": {},
   "outputs": [
    {
     "name": "stdout",
     "output_type": "stream",
     "text": [
      "Part 1 - Number of increases: 1121\n"
     ]
    }
   ],
   "source": [
    "# Count how many times a depth increases\n",
    "count = 0\n",
    "for i in range(1, len(depths)):\n",
    "    if depths[i] > depths[i - 1]:\n",
    "        count += 1\n",
    "\n",
    "print(f\"Part 1 - Number of increases: {count}\")"
   ]
  },
  {
   "cell_type": "code",
   "execution_count": 10,
   "id": "999b2bdd-1b1a-4f60-8eb4-fb7c8fb7684c",
   "metadata": {},
   "outputs": [],
   "source": [
    "data_file = r'C:\\Users\\student\\OneDrive\\Documents\\input_text.txt'\n",
    "\n",
    "# Read lines from file\n",
    "with open(data_file, 'r') as input_file:\n",
    "    lines = input_file.read().splitlines()"
   ]
  },
  {
   "cell_type": "code",
   "execution_count": 11,
   "id": "77d08f60-547e-4db0-adf2-b722837090a7",
   "metadata": {},
   "outputs": [],
   "source": [
    "# Convert to integers\n",
    "depths = [int(line) for line in lines]"
   ]
  },
  {
   "cell_type": "code",
   "execution_count": 12,
   "id": "f1694adb-544a-45dc-8bf2-34b228324e45",
   "metadata": {},
   "outputs": [
    {
     "name": "stdout",
     "output_type": "stream",
     "text": [
      "Part 2 - Sliding window increases: 1065\n"
     ]
    }
   ],
   "source": [
    "# Count increases in 3-measurement sliding window sums\n",
    "count = 0\n",
    "\n",
    "for i in range(len(depths) - 3):\n",
    "    window1 = depths[i] + depths[i + 1] + depths[i + 2]\n",
    "    window2 = depths[i + 1] + depths[i + 2] + depths[i + 3]\n",
    "    \n",
    "    if window2 > window1:\n",
    "        count += 1\n",
    "\n",
    "print(f\"Part 2 - Sliding window increases: {count}\")"
   ]
  },
  {
   "cell_type": "code",
   "execution_count": null,
   "id": "b6bc7b9a-a476-49ef-a2c3-0e64f337e2d4",
   "metadata": {},
   "outputs": [],
   "source": []
  }
 ],
 "metadata": {
  "kernelspec": {
   "display_name": "Python [conda env:base]",
   "language": "python",
   "name": "conda-base-py"
  },
  "language_info": {
   "codemirror_mode": {
    "name": "ipython",
    "version": 3
   },
   "file_extension": ".py",
   "mimetype": "text/x-python",
   "name": "python",
   "nbconvert_exporter": "python",
   "pygments_lexer": "ipython3",
   "version": "3.12.4"
  }
 },
 "nbformat": 4,
 "nbformat_minor": 5
}
